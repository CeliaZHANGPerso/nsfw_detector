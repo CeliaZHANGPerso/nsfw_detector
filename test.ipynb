{
 "cells": [
  {
   "cell_type": "code",
   "execution_count": 2,
   "id": "cd30e5a1",
   "metadata": {},
   "outputs": [
    {
     "name": "stdout",
     "output_type": "stream",
     "text": [
      "Requirement already satisfied: paddleocr in /home/zhangguanguan1/.pyenv/versions/nsfw_detector/lib/python3.12/site-packages (3.2.0)\n",
      "Requirement already satisfied: paddlex<3.3.0,>=3.2.0 in /home/zhangguanguan1/.pyenv/versions/nsfw_detector/lib/python3.12/site-packages (from paddlex[ocr-core]<3.3.0,>=3.2.0->paddleocr) (3.2.1)\n",
      "Requirement already satisfied: PyYAML>=6 in /home/zhangguanguan1/.pyenv/versions/nsfw_detector/lib/python3.12/site-packages (from paddleocr) (6.0.2)\n",
      "Requirement already satisfied: typing-extensions>=4.12 in /home/zhangguanguan1/.pyenv/versions/nsfw_detector/lib/python3.12/site-packages (from paddleocr) (4.15.0)\n",
      "Requirement already satisfied: aistudio_sdk>=0.3.5 in /home/zhangguanguan1/.pyenv/versions/nsfw_detector/lib/python3.12/site-packages (from paddlex<3.3.0,>=3.2.0->paddlex[ocr-core]<3.3.0,>=3.2.0->paddleocr) (0.3.8)\n",
      "Requirement already satisfied: chardet in /home/zhangguanguan1/.pyenv/versions/nsfw_detector/lib/python3.12/site-packages (from paddlex<3.3.0,>=3.2.0->paddlex[ocr-core]<3.3.0,>=3.2.0->paddleocr) (5.2.0)\n",
      "Requirement already satisfied: colorlog in /home/zhangguanguan1/.pyenv/versions/nsfw_detector/lib/python3.12/site-packages (from paddlex<3.3.0,>=3.2.0->paddlex[ocr-core]<3.3.0,>=3.2.0->paddleocr) (6.9.0)\n",
      "Requirement already satisfied: filelock in /home/zhangguanguan1/.pyenv/versions/nsfw_detector/lib/python3.12/site-packages (from paddlex<3.3.0,>=3.2.0->paddlex[ocr-core]<3.3.0,>=3.2.0->paddleocr) (3.20.0)\n",
      "Requirement already satisfied: huggingface_hub in /home/zhangguanguan1/.pyenv/versions/nsfw_detector/lib/python3.12/site-packages (from paddlex<3.3.0,>=3.2.0->paddlex[ocr-core]<3.3.0,>=3.2.0->paddleocr) (0.35.3)\n",
      "Requirement already satisfied: modelscope>=1.28.0 in /home/zhangguanguan1/.pyenv/versions/nsfw_detector/lib/python3.12/site-packages (from paddlex<3.3.0,>=3.2.0->paddlex[ocr-core]<3.3.0,>=3.2.0->paddleocr) (1.30.0)\n",
      "Requirement already satisfied: numpy>=1.24 in /home/zhangguanguan1/.pyenv/versions/nsfw_detector/lib/python3.12/site-packages (from paddlex<3.3.0,>=3.2.0->paddlex[ocr-core]<3.3.0,>=3.2.0->paddleocr) (2.0.2)\n",
      "Requirement already satisfied: packaging in /home/zhangguanguan1/.pyenv/versions/nsfw_detector/lib/python3.12/site-packages (from paddlex<3.3.0,>=3.2.0->paddlex[ocr-core]<3.3.0,>=3.2.0->paddleocr) (25.0)\n",
      "Requirement already satisfied: pandas>=1.3 in /home/zhangguanguan1/.pyenv/versions/nsfw_detector/lib/python3.12/site-packages (from paddlex<3.3.0,>=3.2.0->paddlex[ocr-core]<3.3.0,>=3.2.0->paddleocr) (2.2.2)\n",
      "Requirement already satisfied: pillow in /home/zhangguanguan1/.pyenv/versions/nsfw_detector/lib/python3.12/site-packages (from paddlex<3.3.0,>=3.2.0->paddlex[ocr-core]<3.3.0,>=3.2.0->paddleocr) (11.3.0)\n",
      "Requirement already satisfied: prettytable in /home/zhangguanguan1/.pyenv/versions/nsfw_detector/lib/python3.12/site-packages (from paddlex<3.3.0,>=3.2.0->paddlex[ocr-core]<3.3.0,>=3.2.0->paddleocr) (3.16.0)\n",
      "Requirement already satisfied: py-cpuinfo in /home/zhangguanguan1/.pyenv/versions/nsfw_detector/lib/python3.12/site-packages (from paddlex<3.3.0,>=3.2.0->paddlex[ocr-core]<3.3.0,>=3.2.0->paddleocr) (9.0.0)\n",
      "Requirement already satisfied: pydantic>=2 in /home/zhangguanguan1/.pyenv/versions/nsfw_detector/lib/python3.12/site-packages (from paddlex<3.3.0,>=3.2.0->paddlex[ocr-core]<3.3.0,>=3.2.0->paddleocr) (2.12.0)\n",
      "Requirement already satisfied: requests in /home/zhangguanguan1/.pyenv/versions/nsfw_detector/lib/python3.12/site-packages (from paddlex<3.3.0,>=3.2.0->paddlex[ocr-core]<3.3.0,>=3.2.0->paddleocr) (2.32.5)\n",
      "Requirement already satisfied: ruamel.yaml in /home/zhangguanguan1/.pyenv/versions/nsfw_detector/lib/python3.12/site-packages (from paddlex<3.3.0,>=3.2.0->paddlex[ocr-core]<3.3.0,>=3.2.0->paddleocr) (0.18.15)\n",
      "Requirement already satisfied: ujson in /home/zhangguanguan1/.pyenv/versions/nsfw_detector/lib/python3.12/site-packages (from paddlex<3.3.0,>=3.2.0->paddlex[ocr-core]<3.3.0,>=3.2.0->paddleocr) (5.11.0)\n",
      "Requirement already satisfied: imagesize in /home/zhangguanguan1/.pyenv/versions/nsfw_detector/lib/python3.12/site-packages (from paddlex[ocr-core]<3.3.0,>=3.2.0->paddleocr) (1.4.1)\n",
      "Requirement already satisfied: opencv-contrib-python==4.10.0.84 in /home/zhangguanguan1/.pyenv/versions/nsfw_detector/lib/python3.12/site-packages (from paddlex[ocr-core]<3.3.0,>=3.2.0->paddleocr) (4.10.0.84)\n",
      "Requirement already satisfied: pyclipper in /home/zhangguanguan1/.pyenv/versions/nsfw_detector/lib/python3.12/site-packages (from paddlex[ocr-core]<3.3.0,>=3.2.0->paddleocr) (1.3.0.post6)\n",
      "Requirement already satisfied: pypdfium2>=4 in /home/zhangguanguan1/.pyenv/versions/nsfw_detector/lib/python3.12/site-packages (from paddlex[ocr-core]<3.3.0,>=3.2.0->paddleocr) (4.30.0)\n",
      "Requirement already satisfied: shapely in /home/zhangguanguan1/.pyenv/versions/nsfw_detector/lib/python3.12/site-packages (from paddlex[ocr-core]<3.3.0,>=3.2.0->paddleocr) (2.1.2)\n",
      "Requirement already satisfied: psutil in /home/zhangguanguan1/.pyenv/versions/nsfw_detector/lib/python3.12/site-packages (from aistudio_sdk>=0.3.5->paddlex<3.3.0,>=3.2.0->paddlex[ocr-core]<3.3.0,>=3.2.0->paddleocr) (7.1.0)\n",
      "Requirement already satisfied: tqdm in /home/zhangguanguan1/.pyenv/versions/nsfw_detector/lib/python3.12/site-packages (from aistudio_sdk>=0.3.5->paddlex<3.3.0,>=3.2.0->paddlex[ocr-core]<3.3.0,>=3.2.0->paddleocr) (4.67.1)\n",
      "Requirement already satisfied: bce-python-sdk in /home/zhangguanguan1/.pyenv/versions/nsfw_detector/lib/python3.12/site-packages (from aistudio_sdk>=0.3.5->paddlex<3.3.0,>=3.2.0->paddlex[ocr-core]<3.3.0,>=3.2.0->paddleocr) (0.9.46)\n",
      "Requirement already satisfied: click in /home/zhangguanguan1/.pyenv/versions/nsfw_detector/lib/python3.12/site-packages (from aistudio_sdk>=0.3.5->paddlex<3.3.0,>=3.2.0->paddlex[ocr-core]<3.3.0,>=3.2.0->paddleocr) (8.3.0)\n",
      "Requirement already satisfied: setuptools in /home/zhangguanguan1/.pyenv/versions/nsfw_detector/lib/python3.12/site-packages (from modelscope>=1.28.0->paddlex<3.3.0,>=3.2.0->paddlex[ocr-core]<3.3.0,>=3.2.0->paddleocr) (80.9.0)\n",
      "Requirement already satisfied: urllib3>=1.26 in /home/zhangguanguan1/.pyenv/versions/nsfw_detector/lib/python3.12/site-packages (from modelscope>=1.28.0->paddlex<3.3.0,>=3.2.0->paddlex[ocr-core]<3.3.0,>=3.2.0->paddleocr) (2.5.0)\n",
      "Requirement already satisfied: python-dateutil>=2.8.2 in /home/zhangguanguan1/.pyenv/versions/nsfw_detector/lib/python3.12/site-packages (from pandas>=1.3->paddlex<3.3.0,>=3.2.0->paddlex[ocr-core]<3.3.0,>=3.2.0->paddleocr) (2.9.0.post0)\n",
      "Requirement already satisfied: pytz>=2020.1 in /home/zhangguanguan1/.pyenv/versions/nsfw_detector/lib/python3.12/site-packages (from pandas>=1.3->paddlex<3.3.0,>=3.2.0->paddlex[ocr-core]<3.3.0,>=3.2.0->paddleocr) (2025.2)\n",
      "Requirement already satisfied: tzdata>=2022.7 in /home/zhangguanguan1/.pyenv/versions/nsfw_detector/lib/python3.12/site-packages (from pandas>=1.3->paddlex<3.3.0,>=3.2.0->paddlex[ocr-core]<3.3.0,>=3.2.0->paddleocr) (2025.2)\n",
      "Requirement already satisfied: annotated-types>=0.6.0 in /home/zhangguanguan1/.pyenv/versions/nsfw_detector/lib/python3.12/site-packages (from pydantic>=2->paddlex<3.3.0,>=3.2.0->paddlex[ocr-core]<3.3.0,>=3.2.0->paddleocr) (0.7.0)\n",
      "Requirement already satisfied: pydantic-core==2.41.1 in /home/zhangguanguan1/.pyenv/versions/nsfw_detector/lib/python3.12/site-packages (from pydantic>=2->paddlex<3.3.0,>=3.2.0->paddlex[ocr-core]<3.3.0,>=3.2.0->paddleocr) (2.41.1)\n",
      "Requirement already satisfied: typing-inspection>=0.4.2 in /home/zhangguanguan1/.pyenv/versions/nsfw_detector/lib/python3.12/site-packages (from pydantic>=2->paddlex<3.3.0,>=3.2.0->paddlex[ocr-core]<3.3.0,>=3.2.0->paddleocr) (0.4.2)\n",
      "Requirement already satisfied: six>=1.5 in /home/zhangguanguan1/.pyenv/versions/nsfw_detector/lib/python3.12/site-packages (from python-dateutil>=2.8.2->pandas>=1.3->paddlex<3.3.0,>=3.2.0->paddlex[ocr-core]<3.3.0,>=3.2.0->paddleocr) (1.17.0)\n",
      "Requirement already satisfied: charset_normalizer<4,>=2 in /home/zhangguanguan1/.pyenv/versions/nsfw_detector/lib/python3.12/site-packages (from requests->paddlex<3.3.0,>=3.2.0->paddlex[ocr-core]<3.3.0,>=3.2.0->paddleocr) (3.4.3)\n",
      "Requirement already satisfied: idna<4,>=2.5 in /home/zhangguanguan1/.pyenv/versions/nsfw_detector/lib/python3.12/site-packages (from requests->paddlex<3.3.0,>=3.2.0->paddlex[ocr-core]<3.3.0,>=3.2.0->paddleocr) (3.10)\n",
      "Requirement already satisfied: certifi>=2017.4.17 in /home/zhangguanguan1/.pyenv/versions/nsfw_detector/lib/python3.12/site-packages (from requests->paddlex<3.3.0,>=3.2.0->paddlex[ocr-core]<3.3.0,>=3.2.0->paddleocr) (2025.10.5)\n",
      "Requirement already satisfied: pycryptodome>=3.8.0 in /home/zhangguanguan1/.pyenv/versions/nsfw_detector/lib/python3.12/site-packages (from bce-python-sdk->aistudio_sdk>=0.3.5->paddlex<3.3.0,>=3.2.0->paddlex[ocr-core]<3.3.0,>=3.2.0->paddleocr) (3.23.0)\n",
      "Requirement already satisfied: future>=0.6.0 in /home/zhangguanguan1/.pyenv/versions/nsfw_detector/lib/python3.12/site-packages (from bce-python-sdk->aistudio_sdk>=0.3.5->paddlex<3.3.0,>=3.2.0->paddlex[ocr-core]<3.3.0,>=3.2.0->paddleocr) (1.0.0)\n",
      "Requirement already satisfied: fsspec>=2023.5.0 in /home/zhangguanguan1/.pyenv/versions/nsfw_detector/lib/python3.12/site-packages (from huggingface_hub->paddlex<3.3.0,>=3.2.0->paddlex[ocr-core]<3.3.0,>=3.2.0->paddleocr) (2025.9.0)\n",
      "Requirement already satisfied: hf-xet<2.0.0,>=1.1.3 in /home/zhangguanguan1/.pyenv/versions/nsfw_detector/lib/python3.12/site-packages (from huggingface_hub->paddlex<3.3.0,>=3.2.0->paddlex[ocr-core]<3.3.0,>=3.2.0->paddleocr) (1.1.10)\n",
      "Requirement already satisfied: wcwidth in /home/zhangguanguan1/.pyenv/versions/nsfw_detector/lib/python3.12/site-packages (from prettytable->paddlex<3.3.0,>=3.2.0->paddlex[ocr-core]<3.3.0,>=3.2.0->paddleocr) (0.2.14)\n",
      "Requirement already satisfied: ruamel.yaml.clib>=0.2.7 in /home/zhangguanguan1/.pyenv/versions/nsfw_detector/lib/python3.12/site-packages (from ruamel.yaml->paddlex<3.3.0,>=3.2.0->paddlex[ocr-core]<3.3.0,>=3.2.0->paddleocr) (0.2.14)\n",
      "Requirement already satisfied: paddlepaddle in /home/zhangguanguan1/.pyenv/versions/3.12.3/envs/nsfw_detector/lib/python3.12/site-packages (3.2.0)\n",
      "Requirement already satisfied: httpx in /home/zhangguanguan1/.pyenv/versions/3.12.3/envs/nsfw_detector/lib/python3.12/site-packages (from paddlepaddle) (0.28.1)\n",
      "Requirement already satisfied: numpy>=1.21 in /home/zhangguanguan1/.pyenv/versions/3.12.3/envs/nsfw_detector/lib/python3.12/site-packages (from paddlepaddle) (2.0.2)\n",
      "Requirement already satisfied: protobuf>=3.20.2 in /home/zhangguanguan1/.pyenv/versions/3.12.3/envs/nsfw_detector/lib/python3.12/site-packages (from paddlepaddle) (6.32.1)\n",
      "Requirement already satisfied: Pillow in /home/zhangguanguan1/.pyenv/versions/3.12.3/envs/nsfw_detector/lib/python3.12/site-packages (from paddlepaddle) (11.3.0)\n",
      "Requirement already satisfied: opt_einsum==3.3.0 in /home/zhangguanguan1/.pyenv/versions/3.12.3/envs/nsfw_detector/lib/python3.12/site-packages (from paddlepaddle) (3.3.0)\n",
      "Requirement already satisfied: networkx in /home/zhangguanguan1/.pyenv/versions/3.12.3/envs/nsfw_detector/lib/python3.12/site-packages (from paddlepaddle) (3.5)\n",
      "Requirement already satisfied: typing_extensions in /home/zhangguanguan1/.pyenv/versions/3.12.3/envs/nsfw_detector/lib/python3.12/site-packages (from paddlepaddle) (4.15.0)\n",
      "Requirement already satisfied: safetensors>=0.6.0 in /home/zhangguanguan1/.pyenv/versions/3.12.3/envs/nsfw_detector/lib/python3.12/site-packages (from paddlepaddle) (0.6.2)\n",
      "Requirement already satisfied: anyio in /home/zhangguanguan1/.pyenv/versions/3.12.3/envs/nsfw_detector/lib/python3.12/site-packages (from httpx->paddlepaddle) (4.11.0)\n",
      "Requirement already satisfied: certifi in /home/zhangguanguan1/.pyenv/versions/3.12.3/envs/nsfw_detector/lib/python3.12/site-packages (from httpx->paddlepaddle) (2025.10.5)\n",
      "Requirement already satisfied: httpcore==1.* in /home/zhangguanguan1/.pyenv/versions/3.12.3/envs/nsfw_detector/lib/python3.12/site-packages (from httpx->paddlepaddle) (1.0.9)\n",
      "Requirement already satisfied: idna in /home/zhangguanguan1/.pyenv/versions/3.12.3/envs/nsfw_detector/lib/python3.12/site-packages (from httpx->paddlepaddle) (3.10)\n",
      "Requirement already satisfied: h11>=0.16 in /home/zhangguanguan1/.pyenv/versions/3.12.3/envs/nsfw_detector/lib/python3.12/site-packages (from httpcore==1.*->httpx->paddlepaddle) (0.16.0)\n",
      "Requirement already satisfied: sniffio>=1.1 in /home/zhangguanguan1/.pyenv/versions/3.12.3/envs/nsfw_detector/lib/python3.12/site-packages (from anyio->httpx->paddlepaddle) (1.3.1)\n"
     ]
    }
   ],
   "source": [
    "!python -m pip install paddleocr\n",
    "!pip install paddlepaddle"
   ]
  },
  {
   "cell_type": "code",
   "execution_count": 3,
   "id": "85ffd116",
   "metadata": {},
   "outputs": [
    {
     "ename": "RuntimeError",
     "evalue": "PDX has already been initialized. Reinitialization is not supported.",
     "output_type": "error",
     "traceback": [
      "\u001b[31m---------------------------------------------------------------------------\u001b[39m",
      "\u001b[31mRuntimeError\u001b[39m                              Traceback (most recent call last)",
      "\u001b[36mCell\u001b[39m\u001b[36m \u001b[39m\u001b[32mIn[3]\u001b[39m\u001b[32m, line 1\u001b[39m\n\u001b[32m----> \u001b[39m\u001b[32m1\u001b[39m \u001b[38;5;28;01mimport\u001b[39;00m\u001b[38;5;250m \u001b[39m\u001b[34;01mpaddleocr\u001b[39;00m\n",
      "\u001b[36mFile \u001b[39m\u001b[32m~/.pyenv/versions/nsfw_detector/lib/python3.12/site-packages/paddleocr/__init__.py:17\u001b[39m\n\u001b[32m      1\u001b[39m \u001b[38;5;66;03m# Copyright (c) 2025 PaddlePaddle Authors. All Rights Reserved.\u001b[39;00m\n\u001b[32m      2\u001b[39m \u001b[38;5;66;03m#\u001b[39;00m\n\u001b[32m      3\u001b[39m \u001b[38;5;66;03m# Licensed under the Apache License, Version 2.0 (the \"License\");\u001b[39;00m\n\u001b[32m   (...)\u001b[39m\u001b[32m     12\u001b[39m \u001b[38;5;66;03m# See the License for the specific language governing permissions and\u001b[39;00m\n\u001b[32m     13\u001b[39m \u001b[38;5;66;03m# limitations under the License.\u001b[39;00m\n\u001b[32m     15\u001b[39m \u001b[38;5;28;01mfrom\u001b[39;00m\u001b[38;5;250m \u001b[39m\u001b[34;01mpaddlex\u001b[39;00m\u001b[34;01m.\u001b[39;00m\u001b[34;01minference\u001b[39;00m\u001b[34;01m.\u001b[39;00m\u001b[34;01mutils\u001b[39;00m\u001b[34;01m.\u001b[39;00m\u001b[34;01mbenchmark\u001b[39;00m\u001b[38;5;250m \u001b[39m\u001b[38;5;28;01mimport\u001b[39;00m benchmark\n\u001b[32m---> \u001b[39m\u001b[32m17\u001b[39m \u001b[38;5;28;01mfrom\u001b[39;00m\u001b[38;5;250m \u001b[39m\u001b[34;01m.\u001b[39;00m\u001b[34;01m_models\u001b[39;00m\u001b[38;5;250m \u001b[39m\u001b[38;5;28;01mimport\u001b[39;00m (\n\u001b[32m     18\u001b[39m     ChartParsing,\n\u001b[32m     19\u001b[39m     DocImgOrientationClassification,\n\u001b[32m     20\u001b[39m     DocVLM,\n\u001b[32m     21\u001b[39m     FormulaRecognition,\n\u001b[32m     22\u001b[39m     LayoutDetection,\n\u001b[32m     23\u001b[39m     SealTextDetection,\n\u001b[32m     24\u001b[39m     TableCellsDetection,\n\u001b[32m     25\u001b[39m     TableClassification,\n\u001b[32m     26\u001b[39m     TableStructureRecognition,\n\u001b[32m     27\u001b[39m     TextDetection,\n\u001b[32m     28\u001b[39m     TextImageUnwarping,\n\u001b[32m     29\u001b[39m     TextLineOrientationClassification,\n\u001b[32m     30\u001b[39m     TextRecognition,\n\u001b[32m     31\u001b[39m )\n\u001b[32m     32\u001b[39m \u001b[38;5;28;01mfrom\u001b[39;00m\u001b[38;5;250m \u001b[39m\u001b[34;01m.\u001b[39;00m\u001b[34;01m_pipelines\u001b[39;00m\u001b[38;5;250m \u001b[39m\u001b[38;5;28;01mimport\u001b[39;00m (\n\u001b[32m     33\u001b[39m     DocPreprocessor,\n\u001b[32m     34\u001b[39m     DocUnderstanding,\n\u001b[32m   (...)\u001b[39m\u001b[32m     41\u001b[39m     TableRecognitionPipelineV2,\n\u001b[32m     42\u001b[39m )\n\u001b[32m     43\u001b[39m \u001b[38;5;28;01mfrom\u001b[39;00m\u001b[38;5;250m \u001b[39m\u001b[34;01m.\u001b[39;00m\u001b[34;01m_utils\u001b[39;00m\u001b[34;01m.\u001b[39;00m\u001b[34;01mlogging\u001b[39;00m\u001b[38;5;250m \u001b[39m\u001b[38;5;28;01mimport\u001b[39;00m logger\n",
      "\u001b[36mFile \u001b[39m\u001b[32m~/.pyenv/versions/nsfw_detector/lib/python3.12/site-packages/paddleocr/_models/__init__.py:15\u001b[39m\n\u001b[32m      1\u001b[39m \u001b[38;5;66;03m# Copyright (c) 2025 PaddlePaddle Authors. All Rights Reserved.\u001b[39;00m\n\u001b[32m      2\u001b[39m \u001b[38;5;66;03m#\u001b[39;00m\n\u001b[32m      3\u001b[39m \u001b[38;5;66;03m# Licensed under the Apache License, Version 2.0 (the \"License\");\u001b[39;00m\n\u001b[32m   (...)\u001b[39m\u001b[32m     12\u001b[39m \u001b[38;5;66;03m# See the License for the specific language governing permissions and\u001b[39;00m\n\u001b[32m     13\u001b[39m \u001b[38;5;66;03m# limitations under the License.\u001b[39;00m\n\u001b[32m---> \u001b[39m\u001b[32m15\u001b[39m \u001b[38;5;28;01mfrom\u001b[39;00m\u001b[38;5;250m \u001b[39m\u001b[34;01m.\u001b[39;00m\u001b[34;01mchart_parsing\u001b[39;00m\u001b[38;5;250m \u001b[39m\u001b[38;5;28;01mimport\u001b[39;00m ChartParsing\n\u001b[32m     16\u001b[39m \u001b[38;5;28;01mfrom\u001b[39;00m\u001b[38;5;250m \u001b[39m\u001b[34;01m.\u001b[39;00m\u001b[34;01mdoc_img_orientation_classification\u001b[39;00m\u001b[38;5;250m \u001b[39m\u001b[38;5;28;01mimport\u001b[39;00m DocImgOrientationClassification\n\u001b[32m     17\u001b[39m \u001b[38;5;28;01mfrom\u001b[39;00m\u001b[38;5;250m \u001b[39m\u001b[34;01m.\u001b[39;00m\u001b[34;01mdoc_vlm\u001b[39;00m\u001b[38;5;250m \u001b[39m\u001b[38;5;28;01mimport\u001b[39;00m DocVLM\n",
      "\u001b[36mFile \u001b[39m\u001b[32m~/.pyenv/versions/nsfw_detector/lib/python3.12/site-packages/paddleocr/_models/chart_parsing.py:16\u001b[39m\n\u001b[32m      1\u001b[39m \u001b[38;5;66;03m# Copyright (c) 2025 PaddlePaddle Authors. All Rights Reserved.\u001b[39;00m\n\u001b[32m      2\u001b[39m \u001b[38;5;66;03m#\u001b[39;00m\n\u001b[32m      3\u001b[39m \u001b[38;5;66;03m# Licensed under the Apache License, Version 2.0 (the \"License\");\u001b[39;00m\n\u001b[32m   (...)\u001b[39m\u001b[32m     12\u001b[39m \u001b[38;5;66;03m# See the License for the specific language governing permissions and\u001b[39;00m\n\u001b[32m     13\u001b[39m \u001b[38;5;66;03m# limitations under the License.\u001b[39;00m\n\u001b[32m     15\u001b[39m \u001b[38;5;28;01mfrom\u001b[39;00m\u001b[38;5;250m \u001b[39m\u001b[34;01m.\u001b[39;00m\u001b[34;01m.\u001b[39;00m\u001b[34;01m_utils\u001b[39;00m\u001b[34;01m.\u001b[39;00m\u001b[34;01mcli\u001b[39;00m\u001b[38;5;250m \u001b[39m\u001b[38;5;28;01mimport\u001b[39;00m add_simple_inference_args\n\u001b[32m---> \u001b[39m\u001b[32m16\u001b[39m \u001b[38;5;28;01mfrom\u001b[39;00m\u001b[38;5;250m \u001b[39m\u001b[34;01m.\u001b[39;00m\u001b[34;01m_doc_vlm\u001b[39;00m\u001b[38;5;250m \u001b[39m\u001b[38;5;28;01mimport\u001b[39;00m (\n\u001b[32m     17\u001b[39m     BaseDocVLM,\n\u001b[32m     18\u001b[39m     BaseDocVLMSubcommandExecutor,\n\u001b[32m     19\u001b[39m )\n\u001b[32m     22\u001b[39m \u001b[38;5;28;01mclass\u001b[39;00m\u001b[38;5;250m \u001b[39m\u001b[34;01mChartParsing\u001b[39;00m(BaseDocVLM):\n\u001b[32m     23\u001b[39m     \u001b[38;5;129m@property\u001b[39m\n\u001b[32m     24\u001b[39m     \u001b[38;5;28;01mdef\u001b[39;00m\u001b[38;5;250m \u001b[39m\u001b[34mdefault_model_name\u001b[39m(\u001b[38;5;28mself\u001b[39m):\n",
      "\u001b[36mFile \u001b[39m\u001b[32m~/.pyenv/versions/nsfw_detector/lib/python3.12/site-packages/paddleocr/_models/_doc_vlm.py:21\u001b[39m\n\u001b[32m     15\u001b[39m \u001b[38;5;28;01mimport\u001b[39;00m\u001b[38;5;250m \u001b[39m\u001b[34;01mabc\u001b[39;00m\n\u001b[32m     17\u001b[39m \u001b[38;5;28;01mfrom\u001b[39;00m\u001b[38;5;250m \u001b[39m\u001b[34;01m.\u001b[39;00m\u001b[34;01m.\u001b[39;00m\u001b[34;01m_utils\u001b[39;00m\u001b[34;01m.\u001b[39;00m\u001b[34;01mcli\u001b[39;00m\u001b[38;5;250m \u001b[39m\u001b[38;5;28;01mimport\u001b[39;00m (\n\u001b[32m     18\u001b[39m     get_subcommand_args,\n\u001b[32m     19\u001b[39m     perform_simple_inference,\n\u001b[32m     20\u001b[39m )\n\u001b[32m---> \u001b[39m\u001b[32m21\u001b[39m \u001b[38;5;28;01mfrom\u001b[39;00m\u001b[38;5;250m \u001b[39m\u001b[34;01m.\u001b[39;00m\u001b[34;01mbase\u001b[39;00m\u001b[38;5;250m \u001b[39m\u001b[38;5;28;01mimport\u001b[39;00m PaddleXPredictorWrapper, PredictorCLISubcommandExecutor\n\u001b[32m     22\u001b[39m \u001b[38;5;28;01mfrom\u001b[39;00m\u001b[38;5;250m \u001b[39m\u001b[34;01mpaddlex\u001b[39;00m\u001b[34;01m.\u001b[39;00m\u001b[34;01mutils\u001b[39;00m\u001b[34;01m.\u001b[39;00m\u001b[34;01mpipeline_arguments\u001b[39;00m\u001b[38;5;250m \u001b[39m\u001b[38;5;28;01mimport\u001b[39;00m custom_type\n\u001b[32m     25\u001b[39m \u001b[38;5;28;01mclass\u001b[39;00m\u001b[38;5;250m \u001b[39m\u001b[34;01mBaseDocVLM\u001b[39;00m(PaddleXPredictorWrapper):\n",
      "\u001b[36mFile \u001b[39m\u001b[32m~/.pyenv/versions/nsfw_detector/lib/python3.12/site-packages/paddleocr/_models/base.py:17\u001b[39m\n\u001b[32m      1\u001b[39m \u001b[38;5;66;03m# Copyright (c) 2025 PaddlePaddle Authors. All Rights Reserved.\u001b[39;00m\n\u001b[32m      2\u001b[39m \u001b[38;5;66;03m#\u001b[39;00m\n\u001b[32m      3\u001b[39m \u001b[38;5;66;03m# Licensed under the Apache License, Version 2.0 (the \"License\");\u001b[39;00m\n\u001b[32m   (...)\u001b[39m\u001b[32m     12\u001b[39m \u001b[38;5;66;03m# See the License for the specific language governing permissions and\u001b[39;00m\n\u001b[32m     13\u001b[39m \u001b[38;5;66;03m# limitations under the License.\u001b[39;00m\n\u001b[32m     15\u001b[39m \u001b[38;5;28;01mimport\u001b[39;00m\u001b[38;5;250m \u001b[39m\u001b[34;01mabc\u001b[39;00m\n\u001b[32m---> \u001b[39m\u001b[32m17\u001b[39m \u001b[38;5;28;01mfrom\u001b[39;00m\u001b[38;5;250m \u001b[39m\u001b[34;01mpaddlex\u001b[39;00m\u001b[38;5;250m \u001b[39m\u001b[38;5;28;01mimport\u001b[39;00m create_predictor\n\u001b[32m     18\u001b[39m \u001b[38;5;28;01mfrom\u001b[39;00m\u001b[38;5;250m \u001b[39m\u001b[34;01mpaddlex\u001b[39;00m\u001b[34;01m.\u001b[39;00m\u001b[34;01mutils\u001b[39;00m\u001b[34;01m.\u001b[39;00m\u001b[34;01mdeps\u001b[39;00m\u001b[38;5;250m \u001b[39m\u001b[38;5;28;01mimport\u001b[39;00m DependencyError\n\u001b[32m     20\u001b[39m \u001b[38;5;28;01mfrom\u001b[39;00m\u001b[38;5;250m \u001b[39m\u001b[34;01m.\u001b[39;00m\u001b[34;01m.\u001b[39;00m\u001b[34;01m_abstract\u001b[39;00m\u001b[38;5;250m \u001b[39m\u001b[38;5;28;01mimport\u001b[39;00m CLISubcommandExecutor\n",
      "\u001b[36mFile \u001b[39m\u001b[32m~/.pyenv/versions/nsfw_detector/lib/python3.12/site-packages/paddlex/__init__.py:41\u001b[39m\n\u001b[32m     37\u001b[39m     \u001b[38;5;28;01mif\u001b[39;00m flags.EAGER_INITIALIZATION:\n\u001b[32m     38\u001b[39m         repo_manager.initialize()\n\u001b[32m---> \u001b[39m\u001b[32m41\u001b[39m \u001b[43m_initialize\u001b[49m\u001b[43m(\u001b[49m\u001b[43m)\u001b[49m\n\u001b[32m     44\u001b[39m \u001b[38;5;28;01mfrom\u001b[39;00m\u001b[38;5;250m \u001b[39m\u001b[34;01m.\u001b[39;00m\u001b[38;5;250m \u001b[39m\u001b[38;5;28;01mimport\u001b[39;00m version\n\u001b[32m     46\u001b[39m __version__ = version.get_pdx_version()\n",
      "\u001b[36mFile \u001b[39m\u001b[32m~/.pyenv/versions/nsfw_detector/lib/python3.12/site-packages/paddlex/__init__.py:38\u001b[39m, in \u001b[36m_initialize\u001b[39m\u001b[34m()\u001b[39m\n\u001b[32m     35\u001b[39m setup_logging()\n\u001b[32m     37\u001b[39m \u001b[38;5;28;01mif\u001b[39;00m flags.EAGER_INITIALIZATION:\n\u001b[32m---> \u001b[39m\u001b[32m38\u001b[39m     \u001b[43mrepo_manager\u001b[49m\u001b[43m.\u001b[49m\u001b[43minitialize\u001b[49m\u001b[43m(\u001b[49m\u001b[43m)\u001b[49m\n",
      "\u001b[36mFile \u001b[39m\u001b[32m~/.pyenv/versions/nsfw_detector/lib/python3.12/site-packages/paddlex/repo_manager/core.py:214\u001b[39m, in \u001b[36minitialize\u001b[39m\u001b[34m(repo_names)\u001b[39m\n\u001b[32m    212\u001b[39m \u001b[38;5;250m\u001b[39m\u001b[33;03m\"\"\"initialize\"\"\"\u001b[39;00m\n\u001b[32m    213\u001b[39m \u001b[38;5;28;01mif\u001b[39;00m _GlobalContext.is_initialized():\n\u001b[32m--> \u001b[39m\u001b[32m214\u001b[39m     \u001b[38;5;28;01mraise\u001b[39;00m \u001b[38;5;167;01mRuntimeError\u001b[39;00m(\n\u001b[32m    215\u001b[39m         \u001b[33m\"\u001b[39m\u001b[33mPDX has already been initialized. Reinitialization is not supported.\u001b[39m\u001b[33m\"\u001b[39m\n\u001b[32m    216\u001b[39m     )\n\u001b[32m    218\u001b[39m \u001b[38;5;28;01mif\u001b[39;00m repo_names \u001b[38;5;129;01mis\u001b[39;00m \u001b[38;5;28;01mNone\u001b[39;00m:\n\u001b[32m    219\u001b[39m     try_all = \u001b[38;5;28;01mTrue\u001b[39;00m\n",
      "\u001b[31mRuntimeError\u001b[39m: PDX has already been initialized. Reinitialization is not supported."
     ]
    }
   ],
   "source": [
    "import paddleocr"
   ]
  },
  {
   "cell_type": "code",
   "execution_count": null,
   "id": "c7e10d82",
   "metadata": {},
   "outputs": [],
   "source": []
  }
 ],
 "metadata": {
  "kernelspec": {
   "display_name": "nsfw_detector",
   "language": "python",
   "name": "python3"
  },
  "language_info": {
   "codemirror_mode": {
    "name": "ipython",
    "version": 3
   },
   "file_extension": ".py",
   "mimetype": "text/x-python",
   "name": "python",
   "nbconvert_exporter": "python",
   "pygments_lexer": "ipython3",
   "version": "3.12.3"
  }
 },
 "nbformat": 4,
 "nbformat_minor": 5
}
